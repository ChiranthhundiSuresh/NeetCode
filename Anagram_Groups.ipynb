{
  "nbformat": 4,
  "nbformat_minor": 0,
  "metadata": {
    "colab": {
      "provenance": []
    },
    "kernelspec": {
      "name": "python3",
      "display_name": "Python 3"
    },
    "language_info": {
      "name": "python"
    }
  },
  "cells": [
    {
      "cell_type": "markdown",
      "source": [
        "Question:\n",
        "\n",
        "Given an array of strings strs, group all anagrams together into sublists. You may return the output in any order.\n",
        "\n",
        "An anagram is a string that contains the exact same characters as another string, but the order of the characters can be different."
      ],
      "metadata": {
        "id": "DVFwT-x5qIAw"
      }
    },
    {
      "cell_type": "code",
      "source": [
        "class Solution:\n",
        "    def groupAnagrams(self, strs: List[str]) -> List[List[str]]:\n",
        "        anagrams = defaultdict(list)\n",
        "        for s in strs:\n",
        "            sorted_str = ''.join(sorted(s))\n",
        "            anagrams[sorted_str].append(s)\n",
        "        return list(anagrams.values())"
      ],
      "metadata": {
        "id": "AIKg5vu0qaA-"
      },
      "execution_count": null,
      "outputs": []
    }
  ]
}