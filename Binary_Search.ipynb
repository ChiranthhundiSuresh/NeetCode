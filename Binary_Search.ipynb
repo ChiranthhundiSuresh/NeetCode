{
  "nbformat": 4,
  "nbformat_minor": 0,
  "metadata": {
    "colab": {
      "provenance": []
    },
    "kernelspec": {
      "name": "python3",
      "display_name": "Python 3"
    },
    "language_info": {
      "name": "python"
    }
  },
  "cells": [
    {
      "cell_type": "markdown",
      "source": [
        "Question:\n",
        "\n",
        "You are given an array of distinct integers nums, sorted in ascending order, and an integer target.\n",
        "\n",
        "Implement a function to search for target within nums. If it exists, then return its index, otherwise, return -1.\n",
        "\n",
        "Your solution must run in O(logn) time."
      ],
      "metadata": {
        "id": "DVFwT-x5qIAw"
      }
    },
    {
      "cell_type": "code",
      "source": [
        "class Solution:\n",
        "    def search(self, nums: List[int], target: int) -> int:\n",
        "        left, right = 0, len(nums) -1\n",
        "        while left<=right:\n",
        "            mid = left + (right - left)//2\n",
        "            if nums[mid] == target:\n",
        "                return mid\n",
        "            elif nums[mid] < target:\n",
        "                left = mid + 1\n",
        "            else:\n",
        "                right = mid - 1\n",
        "\n",
        "        return -1"
      ],
      "metadata": {
        "id": "AIKg5vu0qaA-"
      },
      "execution_count": null,
      "outputs": []
    }
  ]
}