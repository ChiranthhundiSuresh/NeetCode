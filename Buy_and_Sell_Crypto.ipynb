{
  "nbformat": 4,
  "nbformat_minor": 0,
  "metadata": {
    "colab": {
      "provenance": []
    },
    "kernelspec": {
      "name": "python3",
      "display_name": "Python 3"
    },
    "language_info": {
      "name": "python"
    }
  },
  "cells": [
    {
      "cell_type": "markdown",
      "source": [
        "Question:\n",
        "\n",
        "You are given an integer array prices where prices[i] is the price of NeetCoin on the ith day.\n",
        "\n",
        "You may choose a single day to buy one NeetCoin and choose a different day in the future to sell it.\n",
        "\n",
        "Return the maximum profit you can achieve. You may choose to not make any transactions, in which case the profit would be 0."
      ],
      "metadata": {
        "id": "DVFwT-x5qIAw"
      }
    },
    {
      "cell_type": "code",
      "source": [
        "from typing import List\n",
        "\n",
        "class Solution:\n",
        "    def maxProfit(self, prices: List[int]) -> int:\n",
        "        min_price = float('inf')\n",
        "        max_profit = 0\n",
        "\n",
        "        for price in prices:\n",
        "            if price < min_price:\n",
        "                min_price = price\n",
        "            elif price - min_price > max_profit:\n",
        "                max_profit = price - min_price\n",
        "\n",
        "        return max_profit"
      ],
      "metadata": {
        "id": "AIKg5vu0qaA-"
      },
      "execution_count": null,
      "outputs": []
    }
  ]
}