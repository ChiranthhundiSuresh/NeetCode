{
  "nbformat": 4,
  "nbformat_minor": 0,
  "metadata": {
    "colab": {
      "provenance": []
    },
    "kernelspec": {
      "name": "python3",
      "display_name": "Python 3"
    },
    "language_info": {
      "name": "python"
    }
  },
  "cells": [
    {
      "cell_type": "markdown",
      "source": [
        "Question:\n",
        "\n",
        "You are given an integer n representing the number of steps to reach the top of a staircase. You can climb with either 1 or 2 steps at a time.\n",
        "\n",
        "Return the number of distinct ways to climb to the top of the staircase.\n",
        "\n"
      ],
      "metadata": {
        "id": "DVFwT-x5qIAw"
      }
    },
    {
      "cell_type": "code",
      "source": [
        "class Solution:\n",
        "    def climbStairs(self, n: int) -> int:\n",
        "        if n == 1:\n",
        "            return 1\n",
        "        elif n == 2:\n",
        "            return 2\n",
        "\n",
        "        dp = [0] * (n + 1)\n",
        "        dp[1] = 1\n",
        "        dp[2] = 2\n",
        "\n",
        "        for i in range(3, n + 1):\n",
        "            dp[i] = dp[i - 1] + dp[i - 2]\n",
        "\n",
        "        return dp[n]\n",
        "\n",
        "solution = Solution()\n",
        "print(solution.climbStairs(3))"
      ],
      "metadata": {
        "id": "AIKg5vu0qaA-"
      },
      "execution_count": null,
      "outputs": []
    }
  ]
}