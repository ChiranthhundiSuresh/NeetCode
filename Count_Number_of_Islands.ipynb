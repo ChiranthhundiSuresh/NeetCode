{
  "nbformat": 4,
  "nbformat_minor": 0,
  "metadata": {
    "colab": {
      "provenance": []
    },
    "kernelspec": {
      "name": "python3",
      "display_name": "Python 3"
    },
    "language_info": {
      "name": "python"
    }
  },
  "cells": [
    {
      "cell_type": "markdown",
      "source": [
        "Question:\n",
        "\n",
        "Given a 2D grid grid where '1' represents land and '0' represents water, count and return the number of islands.\n",
        "\n",
        "An island is formed by connecting adjacent lands horizontally or vertically and is surrounded by water. You may assume water is surrounding the grid (i.e., all the edges are water).\n",
        "\n"
      ],
      "metadata": {
        "id": "DVFwT-x5qIAw"
      }
    },
    {
      "cell_type": "code",
      "source": [
        "class Solution:\n",
        "    def numIslands(self, grid: List[List[str]]) -> int:\n",
        "        if not grid:\n",
        "            return 0\n",
        "\n",
        "        def dfs(grid, r, c):\n",
        "\n",
        "            if r < 0 or r >= len(grid) or c < 0 or c >= len(grid[0]) or grid[r][c] == '0':\n",
        "                return\n",
        "\n",
        "\n",
        "            grid[r][c] = '0'\n",
        "\n",
        "\n",
        "            dfs(grid, r + 1, c)\n",
        "            dfs(grid, r - 1, c)\n",
        "            dfs(grid, r, c + 1)\n",
        "            dfs(grid, r, c - 1)\n",
        "\n",
        "        num_islands = 0\n",
        "\n",
        "        for r in range(len(grid)):\n",
        "            for c in range(len(grid[0])):\n",
        "                if grid[r][c] == '1':\n",
        "                    num_islands += 1\n",
        "                    dfs(grid, r, c)\n",
        "\n",
        "        return num_islands"
      ],
      "metadata": {
        "id": "AIKg5vu0qaA-"
      },
      "execution_count": null,
      "outputs": []
    }
  ]
}