{
  "nbformat": 4,
  "nbformat_minor": 0,
  "metadata": {
    "colab": {
      "provenance": []
    },
    "kernelspec": {
      "name": "python3",
      "display_name": "Python 3"
    },
    "language_info": {
      "name": "python"
    }
  },
  "cells": [
    {
      "cell_type": "markdown",
      "source": [
        "Question:\n",
        "\n",
        "There is an m x n grid where you are allowed to move either down or to the right at any point in time.\n",
        "\n",
        "Given the two integers m and n, return the number of possible unique paths that can be taken from the top-left corner of the grid (grid[0][0]) to the bottom-right corner (grid[m - 1][n - 1]).\n",
        "\n",
        "You may assume the output will fit in a 32-bit integer.\n",
        "\n"
      ],
      "metadata": {
        "id": "DVFwT-x5qIAw"
      }
    },
    {
      "cell_type": "code",
      "source": [
        "class Solution:\n",
        "    def uniquePaths(self, m: int, n: int) -> int:\n",
        "        dp = [[0] * n for _ in range(m)]\n",
        "\n",
        "        for i in range(m):\n",
        "            dp[i][0] = 1\n",
        "        for j in range(n):\n",
        "            dp[0][j] = 1\n",
        "\n",
        "        for i in range(1,m):\n",
        "            for j in range(1,n):\n",
        "                dp[i][j] = dp[i-1][j] + dp[i][j-1]\n",
        "\n",
        "        return dp[m-1][n-1]"
      ],
      "metadata": {
        "id": "AIKg5vu0qaA-"
      },
      "execution_count": null,
      "outputs": []
    }
  ]
}