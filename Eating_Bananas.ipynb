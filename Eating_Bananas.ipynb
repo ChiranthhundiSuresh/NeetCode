{
  "nbformat": 4,
  "nbformat_minor": 0,
  "metadata": {
    "colab": {
      "provenance": []
    },
    "kernelspec": {
      "name": "python3",
      "display_name": "Python 3"
    },
    "language_info": {
      "name": "python"
    }
  },
  "cells": [
    {
      "cell_type": "markdown",
      "source": [
        "Question:\n",
        "\n",
        "You are given an integer array piles where piles[i] is the number of bananas in the ith pile. You are also given an integer h, which represents the number of hours you have to eat all the bananas.\n",
        "\n",
        "You may decide your bananas-per-hour eating rate of k. Each hour, you may choose a pile of bananas and eats k bananas from that pile. If the pile has less than k bananas, you may finish eating the pile but you can not eat from another pile in the same hour.\n",
        "\n",
        "Return the minimum integer k such that you can eat all the bananas within h hours."
      ],
      "metadata": {
        "id": "DVFwT-x5qIAw"
      }
    },
    {
      "cell_type": "code",
      "source": [
        "class Solution:\n",
        "    def minEatingSpeed(self, piles: List[int], h: int) -> int:\n",
        "        def canEatAllBananas(piles, k, h):\n",
        "            hours = 0\n",
        "            for pile in piles:\n",
        "                hours += (pile + k - 1) // k  # This is equivalent to math.ceil(pile / k)\n",
        "            return hours <= h\n",
        "\n",
        "        left, right = 1, max(piles)\n",
        "        while left < right:\n",
        "            mid = (left + right) // 2\n",
        "            if canEatAllBananas(piles, mid, h):\n",
        "                right = mid  # Try to find a smaller feasible k\n",
        "            else:\n",
        "                left = mid + 1  # Increase k\n",
        "\n",
        "        return left"
      ],
      "metadata": {
        "id": "AIKg5vu0qaA-"
      },
      "execution_count": null,
      "outputs": []
    }
  ]
}