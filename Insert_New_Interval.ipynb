{
  "nbformat": 4,
  "nbformat_minor": 0,
  "metadata": {
    "colab": {
      "provenance": []
    },
    "kernelspec": {
      "name": "python3",
      "display_name": "Python 3"
    },
    "language_info": {
      "name": "python"
    }
  },
  "cells": [
    {
      "cell_type": "markdown",
      "source": [
        "Question:\n",
        "\n",
        "You are given an array of non-overlapping intervals intervals where intervals[i] = [start_i, end_i] represents the start and the end time of the ith interval. intervals is initially sorted in ascending order by start_i.\n",
        "\n",
        "You are given another interval newInterval = [start, end].\n",
        "\n",
        "Insert newInterval into intervals such that intervals is still sorted in ascending order by start_i and also intervals still does not have any overlapping intervals. You may merge the overlapping intervals if needed.\n",
        "\n",
        "Return intervals after adding newInterval.\n",
        "\n",
        "Note: Intervals are non-overlapping if they have no common point. For example, [1,2] and [3,4] are non-overlapping, but [1,2] and [2,3] are overlapping.\n",
        "\n"
      ],
      "metadata": {
        "id": "DVFwT-x5qIAw"
      }
    },
    {
      "cell_type": "code",
      "source": [
        "class Solution:\n",
        "    def insert(self, intervals: List[List[int]], newInterval: List[int]) -> List[List[int]]:\n",
        "        result = []\n",
        "        i = 0\n",
        "        n = len(intervals)\n",
        "\n",
        "        while i < n and intervals[i][1] < newInterval[0]:\n",
        "            result.append(intervals[i])\n",
        "            i += 1\n",
        "\n",
        "\n",
        "        while i < n and intervals[i][0] <= newInterval[1]:\n",
        "            newInterval[0] = min(newInterval[0], intervals[i][0])\n",
        "            newInterval[1] = max(newInterval[1], intervals[i][1])\n",
        "            i += 1\n",
        "\n",
        "\n",
        "        result.append(newInterval)\n",
        "\n",
        "\n",
        "        while i < n:\n",
        "            result.append(intervals[i])\n",
        "            i += 1\n",
        "\n",
        "        return result"
      ],
      "metadata": {
        "id": "AIKg5vu0qaA-"
      },
      "execution_count": null,
      "outputs": []
    }
  ]
}