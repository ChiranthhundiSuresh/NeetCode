{
  "nbformat": 4,
  "nbformat_minor": 0,
  "metadata": {
    "colab": {
      "provenance": []
    },
    "kernelspec": {
      "name": "python3",
      "display_name": "Python 3"
    },
    "language_info": {
      "name": "python"
    }
  },
  "cells": [
    {
      "cell_type": "markdown",
      "source": [
        "Question:\n",
        "\n",
        "Given a string s, return true if it is a palindrome, otherwise return false.\n",
        "\n",
        "A palindrome is a string that reads the same forward and backward. It is also case-insensitive and ignores all non-alphanumeric characters."
      ],
      "metadata": {
        "id": "DVFwT-x5qIAw"
      }
    },
    {
      "cell_type": "code",
      "source": [
        "class Solution:\n",
        "    def isPalindrome(self, s: str) -> bool:\n",
        "         normalized = re.sub(r'[^a-zA-Z0-9]', '', s).lower()\n",
        "\n",
        "         return normalized == normalized[::-1]\n",
        ""
      ],
      "metadata": {
        "id": "AIKg5vu0qaA-"
      },
      "execution_count": null,
      "outputs": []
    }
  ]
}