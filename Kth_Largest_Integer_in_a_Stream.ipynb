{
  "nbformat": 4,
  "nbformat_minor": 0,
  "metadata": {
    "colab": {
      "provenance": []
    },
    "kernelspec": {
      "name": "python3",
      "display_name": "Python 3"
    },
    "language_info": {
      "name": "python"
    }
  },
  "cells": [
    {
      "cell_type": "markdown",
      "source": [
        "Question:\n",
        "\n",
        "Design a class to find the kth largest integer in a stream of values, including duplicates. E.g. the 2nd largest from [1, 2, 3, 3] is 3. The stream is not necessarily sorted.\n",
        "\n",
        "Implement the following methods:\n",
        "\n",
        "constructor(int k, int[] nums) Initializes the object given an integer k and the stream of integers nums.\n",
        "int add(int val) Adds the integer val to the stream and returns the kth largest integer in the stream.\n",
        "\n"
      ],
      "metadata": {
        "id": "DVFwT-x5qIAw"
      }
    },
    {
      "cell_type": "code",
      "source": [
        "from heapq import heappush, heappop, heapify\n",
        "from typing import List\n",
        "\n",
        "class KthLargest:\n",
        "\n",
        "    def __init__(self, k: int, nums: List[int]):\n",
        "        self.k = k\n",
        "        self.min_heap = nums\n",
        "        heapify(self.min_heap)\n",
        "\n",
        "        while len(self.min_heap) > k:\n",
        "            heappop(self.min_heap)\n",
        "\n",
        "\n",
        "    def add(self, val: int) -> int:\n",
        "        if len(self.min_heap) < self.k:\n",
        "            heappush(self.min_heap, val)\n",
        "        elif val > self.min_heap[0]:\n",
        "            heappop(self.min_heap)\n",
        "            heappush(self.min_heap, val)\n",
        "\n",
        "        return self.min_heap[0]\n"
      ],
      "metadata": {
        "id": "AIKg5vu0qaA-"
      },
      "execution_count": null,
      "outputs": []
    }
  ]
}