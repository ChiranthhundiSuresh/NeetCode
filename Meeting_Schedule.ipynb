{
  "nbformat": 4,
  "nbformat_minor": 0,
  "metadata": {
    "colab": {
      "provenance": []
    },
    "kernelspec": {
      "name": "python3",
      "display_name": "Python 3"
    },
    "language_info": {
      "name": "python"
    }
  },
  "cells": [
    {
      "cell_type": "markdown",
      "source": [
        "Question:\n",
        "\n",
        "Given an array of meeting time interval objects consisting of start and end times [[start_1,end_1],[start_2,end_2],...] (start_i < end_i), determine if a person could add all meetings to their schedule without any conflicts.\n",
        "\n"
      ],
      "metadata": {
        "id": "DVFwT-x5qIAw"
      }
    },
    {
      "cell_type": "code",
      "source": [
        "\"\"\"\n",
        "Definition of Interval:\n",
        "class Interval(object):\n",
        "    def __init__(self, start, end):\n",
        "        self.start = start\n",
        "        self.end = end\n",
        "\"\"\"\n",
        "\n",
        "class Solution:\n",
        "    def canAttendMeetings(self, intervals: List[Interval]) -> bool:\n",
        "        intervals.sort(key=lambda x: x.start)\n",
        "        for i in range(1, len(intervals)):\n",
        "            if intervals[i].start < intervals[i-1].end:\n",
        "                return False\n",
        "        return True"
      ],
      "metadata": {
        "id": "AIKg5vu0qaA-"
      },
      "execution_count": null,
      "outputs": []
    }
  ]
}