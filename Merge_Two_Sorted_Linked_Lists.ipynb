{
  "nbformat": 4,
  "nbformat_minor": 0,
  "metadata": {
    "colab": {
      "provenance": []
    },
    "kernelspec": {
      "name": "python3",
      "display_name": "Python 3"
    },
    "language_info": {
      "name": "python"
    }
  },
  "cells": [
    {
      "cell_type": "markdown",
      "source": [
        "Question:\n",
        "\n",
        "You are given the heads of two sorted linked lists list1 and list2.\n",
        "\n",
        "Merge the two lists into one sorted linked list and return the head of the new sorted linked list.\n",
        "\n",
        "The new list should be made up of nodes from list1 and list2."
      ],
      "metadata": {
        "id": "DVFwT-x5qIAw"
      }
    },
    {
      "cell_type": "code",
      "source": [
        "# Definition for singly-linked list.\n",
        "# class ListNode:\n",
        "#     def __init__(self, val=0, next=None):\n",
        "#         self.val = val\n",
        "#         self.next = next\n",
        "\n",
        "class Solution:\n",
        "    def mergeTwoLists(self, list1: Optional[ListNode], list2: Optional[ListNode]) -> Optional[ListNode]:\n",
        "        dummy = ListNode()\n",
        "\n",
        "        tail = dummy\n",
        "\n",
        "\n",
        "        while list1 and list2:\n",
        "            if list1.val < list2.val:\n",
        "\n",
        "                tail.next = list1\n",
        "                list1 = list1.next\n",
        "            else:\n",
        "\n",
        "                tail.next = list2\n",
        "                list2 = list2.next\n",
        "\n",
        "            tail = tail.next\n",
        "        if list1:\n",
        "            tail.next = list1\n",
        "        elif list2:\n",
        "            tail.next = list2\n",
        "\n",
        "        return dummy.next\n",
        ""
      ],
      "metadata": {
        "id": "AIKg5vu0qaA-"
      },
      "execution_count": null,
      "outputs": []
    }
  ]
}