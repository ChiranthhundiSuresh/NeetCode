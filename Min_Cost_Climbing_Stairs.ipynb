{
  "nbformat": 4,
  "nbformat_minor": 0,
  "metadata": {
    "colab": {
      "provenance": []
    },
    "kernelspec": {
      "name": "python3",
      "display_name": "Python 3"
    },
    "language_info": {
      "name": "python"
    }
  },
  "cells": [
    {
      "cell_type": "markdown",
      "source": [
        "Question:\n",
        "\n",
        "You are given an array of integers cost where cost[i] is the cost of taking a step from the ith floor of a staircase. After paying the cost, you can step to either the (i + 1)th floor or the (i + 2)th floor.\n",
        "\n",
        "You may choose to start at the index 0 or the index 1 floor.\n",
        "\n",
        "Return the minimum cost to reach the top of the staircase, i.e. just past the last index in cost.\n",
        "\n"
      ],
      "metadata": {
        "id": "DVFwT-x5qIAw"
      }
    },
    {
      "cell_type": "code",
      "source": [
        "class Solution:\n",
        "    def minCostClimbingStairs(self, cost: List[int]) -> int:\n",
        "        n = len(cost)\n",
        "        if n == 0:\n",
        "            return 0\n",
        "        elif n == 1:\n",
        "            return cost[0]\n",
        "        dp = [0] * (n+1)\n",
        "        dp[0] = 0\n",
        "        dp[1] = 0\n",
        "\n",
        "        for i in range (2, n+1):\n",
        "            dp[i] = min(dp[i-1] + cost[i-1], dp[i-2] + cost[i-2])\n",
        "        return dp[n]"
      ],
      "metadata": {
        "id": "AIKg5vu0qaA-"
      },
      "execution_count": null,
      "outputs": []
    }
  ]
}