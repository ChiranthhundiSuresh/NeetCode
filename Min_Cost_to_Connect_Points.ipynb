{
  "nbformat": 4,
  "nbformat_minor": 0,
  "metadata": {
    "colab": {
      "provenance": []
    },
    "kernelspec": {
      "name": "python3",
      "display_name": "Python 3"
    },
    "language_info": {
      "name": "python"
    }
  },
  "cells": [
    {
      "cell_type": "markdown",
      "source": [
        "Question:\n",
        "\n",
        "You are given a 2-D integer array points, where points[i] = [xi, yi]. Each points[i] represents a distinct point on a 2-D plane.\n",
        "\n",
        "The cost of connecting two points [xi, yi] and [xj, yj] is the manhattan distance between the two points, i.e. |xi - xj| + |yi - yj|.\n",
        "\n",
        "Return the minimum cost to connect all points together, such that there exists exactly one path between each pair of points.\n",
        "\n"
      ],
      "metadata": {
        "id": "DVFwT-x5qIAw"
      }
    },
    {
      "cell_type": "code",
      "source": [
        "from heapq import heappush, heappop\n",
        "from typing import List\n",
        "\n",
        "class Solution:\n",
        "    def minCostConnectPoints(self, points: List[List[int]]) -> int:\n",
        "        def manhattan_distance(p1,p2):\n",
        "            return abs(p1[0] - p2[0]) + abs(p1[1] - p2[1])\n",
        "\n",
        "        n = len(points)\n",
        "        if n == 0:\n",
        "            return 0\n",
        "\n",
        "        min_heap = [(0,0)]\n",
        "        in_mst = [False] * n\n",
        "        total_cost = 0\n",
        "        edges_used = 0\n",
        "\n",
        "        while edges_used < n:\n",
        "            cost, u = heappop(min_heap)\n",
        "            if in_mst[u]:\n",
        "                continue\n",
        "\n",
        "            in_mst[u] = True\n",
        "            total_cost += cost\n",
        "            edges_used += 1\n",
        "\n",
        "            for v in range(n):\n",
        "                if not in_mst[v]:\n",
        "                    heappush(min_heap, (manhattan_distance(points[u], points[v]), v))\n",
        "        return total_cost"
      ],
      "metadata": {
        "id": "AIKg5vu0qaA-"
      },
      "execution_count": null,
      "outputs": []
    }
  ]
}