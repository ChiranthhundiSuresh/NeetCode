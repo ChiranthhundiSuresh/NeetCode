{
  "nbformat": 4,
  "nbformat_minor": 0,
  "metadata": {
    "colab": {
      "provenance": []
    },
    "kernelspec": {
      "name": "python3",
      "display_name": "Python 3"
    },
    "language_info": {
      "name": "python"
    }
  },
  "cells": [
    {
      "cell_type": "markdown",
      "source": [
        "Question:\n",
        "\n",
        "Given a square n x n matrix of integers matrix, rotate it by 90 degrees clockwise.\n",
        "\n",
        "You must rotate the matrix in-place. Do not allocate another 2D matrix and do the rotation.\n",
        "\n"
      ],
      "metadata": {
        "id": "DVFwT-x5qIAw"
      }
    },
    {
      "cell_type": "code",
      "source": [
        "class Solution:\n",
        "    def rotate(self, matrix: List[List[int]]) -> None:\n",
        "        n = len(matrix)\n",
        "\n",
        "        for i in range(n):\n",
        "            for j in range(i,n):\n",
        "                matrix[i][j], matrix[j][i] = matrix[j][i], matrix[i][j]\n",
        "\n",
        "        for i in range(n):\n",
        "            matrix[i].reverse()"
      ],
      "metadata": {
        "id": "AIKg5vu0qaA-"
      },
      "execution_count": null,
      "outputs": []
    }
  ]
}