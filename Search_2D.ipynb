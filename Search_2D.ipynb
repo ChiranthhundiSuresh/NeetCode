{
  "nbformat": 4,
  "nbformat_minor": 0,
  "metadata": {
    "colab": {
      "provenance": []
    },
    "kernelspec": {
      "name": "python3",
      "display_name": "Python 3"
    },
    "language_info": {
      "name": "python"
    }
  },
  "cells": [
    {
      "cell_type": "markdown",
      "source": [
        "Question:\n",
        "\n",
        "You are given an m x n 2-D integer array matrix and an integer target.\n",
        "\n",
        "Each row in matrix is sorted in non-decreasing order.\n",
        "The first integer of every row is greater than the last integer of the previous row.\n",
        "Return true if target exists within matrix or false otherwise.\n",
        "\n",
        "Can you write a solution that runs in O(log(m * n)) time?"
      ],
      "metadata": {
        "id": "DVFwT-x5qIAw"
      }
    },
    {
      "cell_type": "code",
      "source": [
        "class Solution:\n",
        "    def searchMatrix(self, matrix: List[List[int]], target: int) -> bool:\n",
        "        if not matrix or not matrix[0]:\n",
        "            return False\n",
        "\n",
        "        m, n = len(matrix), len(matrix[0])\n",
        "        left, right = 0, m * n - 1\n",
        "\n",
        "        while left <= right:\n",
        "            mid = (left + right) // 2\n",
        "            mid_value = matrix[mid // n][mid % n]\n",
        "\n",
        "            if mid_value == target:\n",
        "                return True\n",
        "            elif mid_value < target:\n",
        "                left = mid + 1\n",
        "            else:\n",
        "                right = mid - 1\n",
        "\n",
        "        return False"
      ],
      "metadata": {
        "id": "AIKg5vu0qaA-"
      },
      "execution_count": null,
      "outputs": []
    }
  ]
}