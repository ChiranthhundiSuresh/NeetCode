{
  "nbformat": 4,
  "nbformat_minor": 0,
  "metadata": {
    "colab": {
      "provenance": []
    },
    "kernelspec": {
      "name": "python3",
      "display_name": "Python 3"
    },
    "language_info": {
      "name": "python"
    }
  },
  "cells": [
    {
      "cell_type": "markdown",
      "source": [
        "Question:\n",
        "\n",
        "You are given a non-empty array of integers nums. Every integer appears twice except for one.\n",
        "\n",
        "Return the integer that appears only once.\n",
        "\n",
        "You must implement a solution with O(n) runtime complexity and use only O(1) extra space.\n"
      ],
      "metadata": {
        "id": "DVFwT-x5qIAw"
      }
    },
    {
      "cell_type": "code",
      "source": [
        "class Solution:\n",
        "    def singleNumber(self, nums: List[int]) -> int:\n",
        "        single_num = 0\n",
        "        for num in nums:\n",
        "            single_num ^= num\n",
        "        return single_num"
      ],
      "metadata": {
        "id": "AIKg5vu0qaA-"
      },
      "execution_count": null,
      "outputs": []
    }
  ]
}