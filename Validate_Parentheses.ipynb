{
  "nbformat": 4,
  "nbformat_minor": 0,
  "metadata": {
    "colab": {
      "provenance": []
    },
    "kernelspec": {
      "name": "python3",
      "display_name": "Python 3"
    },
    "language_info": {
      "name": "python"
    }
  },
  "cells": [
    {
      "cell_type": "markdown",
      "source": [
        "Question:\n",
        "\n",
        "You are given a string s consisting of the following characters: '(', ')', '{', '}', '[' and ']'.\n",
        "\n",
        "The input string s is valid if and only if:\n",
        "\n",
        "Every open bracket is closed by the same type of close bracket.\n",
        "Open brackets are closed in the correct order.\n",
        "Every close bracket has a corresponding open bracket of the same type.\n",
        "Return true if s is a valid string, and false otherwise."
      ],
      "metadata": {
        "id": "DVFwT-x5qIAw"
      }
    },
    {
      "cell_type": "code",
      "source": [
        "class Solution:\n",
        "    def isValid(self, s: str) -> bool:\n",
        "        stack = []\n",
        "        # Dictionary to hold the matching pairs of brackets\n",
        "        bracket_map = {')': '(', '}': '{', ']': '['}\n",
        "\n",
        "        for char in s:\n",
        "            if char in bracket_map:\n",
        "                # Pop the topmost element from the stack if it exists, else use a dummy value\n",
        "                top_element = stack.pop() if stack else '#'\n",
        "                # If the mapping for the closing bracket doesn't match the stack's top element, return False\n",
        "                if bracket_map[char] != top_element:\n",
        "                    return False\n",
        "            else:\n",
        "                # Push the opening brackets onto the stack\n",
        "                stack.append(char)\n",
        "\n",
        "        # If the stack is empty, all the brackets were properly closed\n",
        "        return not stack"
      ],
      "metadata": {
        "id": "AIKg5vu0qaA-"
      },
      "execution_count": null,
      "outputs": []
    }
  ]
}